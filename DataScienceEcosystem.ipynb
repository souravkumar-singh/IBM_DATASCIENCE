{
  "nbformat": 4,
  "nbformat_minor": 0,
  "metadata": {
    "colab": {
      "provenance": []
    },
    "kernelspec": {
      "name": "python3",
      "display_name": "Python 3"
    },
    "language_info": {
      "name": "python"
    }
  },
  "cells": [
    {
      "cell_type": "markdown",
      "source": [
        "# Data Science Tools and Ecosystem\n"
      ],
      "metadata": {
        "id": "EdNscJxHmrGr"
      }
    },
    {
      "cell_type": "markdown",
      "source": [
        "This notebook provides a comprehensive summary of the tools and ecosystem within the field of Data Science, offering insights into the diverse array of resources and technologies available for analytical and computational tasks."
      ],
      "metadata": {
        "id": "RWOLvCYKnQM4"
      }
    },
    {
      "cell_type": "markdown",
      "source": [
        "**Objectives:**\n",
        "*   List popular languages that Data Scientists use\n",
        "*   List commonly used libraries used by Data Scientists\n",
        "*   Data Science Tools\n",
        "*   few examples of evaluating arithmetic expressions in Python\n",
        "\n",
        "\n",
        "\n"
      ],
      "metadata": {
        "id": "qD8Coi8FsDIq"
      }
    },
    {
      "cell_type": "markdown",
      "source": [
        "Some of the popular languages that Data Scientists use are:\n",
        "1.   Python\n",
        "2.   R\n",
        "1.   SQL\n",
        "2.   Scala\n",
        "\n",
        "\n",
        "\n"
      ],
      "metadata": {
        "id": "DjD64MqUoTHG"
      }
    },
    {
      "cell_type": "markdown",
      "source": [
        "Some of the commonly used libraries used by Data Scientists include:\n",
        "1. TensorFlow\n",
        "2. NumPy\n",
        "3. SciPy\n",
        "4. Pandas\n",
        "5. Matplotlib\n",
        "6. Keras\n",
        "7. SciKit-Learn\n",
        "8. PyTorch"
      ],
      "metadata": {
        "id": "-Q71XKY1otnL"
      }
    },
    {
      "cell_type": "markdown",
      "source": [
        "| Data Science Tools         |\n",
        "| -------------------------- |\n",
        "| Jupyter Notebooks          |\n",
        "| RStudio                    |\n",
        "| VS Code with Python        |\n"
      ],
      "metadata": {
        "id": "A4A5mMWNpoa9"
      }
    },
    {
      "cell_type": "markdown",
      "source": [
        "###Below are a few examples of evaluating arithmetic expressions in Python"
      ],
      "metadata": {
        "id": "FiHEt0qkqr1F"
      }
    },
    {
      "cell_type": "code",
      "execution_count": 2,
      "metadata": {
        "colab": {
          "base_uri": "https://localhost:8080/"
        },
        "id": "MC9ffeR0a-Fi",
        "outputId": "6756341a-ae04-460f-e1dc-3508565f7328"
      },
      "outputs": [
        {
          "output_type": "execute_result",
          "data": {
            "text/plain": [
              "17"
            ]
          },
          "metadata": {},
          "execution_count": 2
        }
      ],
      "source": [
        "\n",
        "# This is a simple arithmetic expression to multiply then add integers.\n",
        "result = (3 * 4) + 5\n",
        "\n",
        "# Display the result\n",
        "result\n"
      ]
    },
    {
      "cell_type": "code",
      "source": [
        "# This will convert 200 minutes to hours by dividing by 60.\n",
        "minutes = 200\n",
        "hours = minutes // 60\n",
        "\n",
        "# Display the result\n",
        "hours\n"
      ],
      "metadata": {
        "colab": {
          "base_uri": "https://localhost:8080/"
        },
        "id": "gbBPzhxwrnNY",
        "outputId": "b9e690a9-107d-44fb-f7b6-e03c6d57a602"
      },
      "execution_count": 4,
      "outputs": [
        {
          "output_type": "execute_result",
          "data": {
            "text/plain": [
              "3"
            ]
          },
          "metadata": {},
          "execution_count": 4
        }
      ]
    },
    {
      "cell_type": "markdown",
      "source": [
        "## Author\n",
        "Sourav Kumar Singh"
      ],
      "metadata": {
        "id": "IxBHcOpjsqDU"
      }
    }
  ]
}